{
 "cells": [
  {
   "cell_type": "markdown",
   "id": "c0b2938c",
   "metadata": {},
   "source": [
    "##### Import necessary library!"
   ]
  },
  {
   "cell_type": "code",
   "execution_count": null,
   "id": "684270e5",
   "metadata": {},
   "outputs": [],
   "source": [
    "import tensorflow as tf\n",
    "from tensorflow import keras\n",
    "import matplotlib.pyplot as plt\n",
    "import numpy as np"
   ]
  },
  {
   "cell_type": "code",
   "execution_count": 78,
   "id": "e97b4db8",
   "metadata": {
    "scrolled": true
   },
   "outputs": [
    {
     "data": {
      "text/plain": [
       "[PhysicalDevice(name='/physical_device:CPU:0', device_type='CPU')]"
      ]
     },
     "execution_count": 78,
     "metadata": {},
     "output_type": "execute_result"
    }
   ],
   "source": [
    "tf.config.experimental.list_physical_devices()"
   ]
  },
  {
   "cell_type": "code",
   "execution_count": 79,
   "id": "83ea05ce",
   "metadata": {},
   "outputs": [
    {
     "data": {
      "text/plain": [
       "True"
      ]
     },
     "execution_count": 79,
     "metadata": {},
     "output_type": "execute_result"
    }
   ],
   "source": [
    "tf.test.is_built_with_cuda()"
   ]
  },
  {
   "cell_type": "code",
   "execution_count": 80,
   "id": "a7ea43be",
   "metadata": {},
   "outputs": [
    {
     "data": {
      "text/plain": [
       "'2.8.0'"
      ]
     },
     "execution_count": 80,
     "metadata": {},
     "output_type": "execute_result"
    }
   ],
   "source": [
    "tf.__version__"
   ]
  },
  {
   "cell_type": "code",
   "execution_count": 81,
   "id": "7abb81e0",
   "metadata": {},
   "outputs": [],
   "source": [
    "(x_train, y_train), (x_test, y_test) = tf.keras.datasets.cifar10.load_data()"
   ]
  },
  {
   "cell_type": "code",
   "execution_count": 82,
   "id": "96b3a8f7",
   "metadata": {},
   "outputs": [
    {
     "data": {
      "text/plain": [
       "(50000, 32, 32, 3)"
      ]
     },
     "execution_count": 82,
     "metadata": {},
     "output_type": "execute_result"
    }
   ],
   "source": [
    "x_train.shape"
   ]
  },
  {
   "cell_type": "code",
   "execution_count": 83,
   "id": "06c0b3b0",
   "metadata": {},
   "outputs": [
    {
     "data": {
      "text/plain": [
       "array([[[ 59,  62,  63],\n",
       "        [ 43,  46,  45],\n",
       "        [ 50,  48,  43],\n",
       "        ...,\n",
       "        [158, 132, 108],\n",
       "        [152, 125, 102],\n",
       "        [148, 124, 103]],\n",
       "\n",
       "       [[ 16,  20,  20],\n",
       "        [  0,   0,   0],\n",
       "        [ 18,   8,   0],\n",
       "        ...,\n",
       "        [123,  88,  55],\n",
       "        [119,  83,  50],\n",
       "        [122,  87,  57]],\n",
       "\n",
       "       [[ 25,  24,  21],\n",
       "        [ 16,   7,   0],\n",
       "        [ 49,  27,   8],\n",
       "        ...,\n",
       "        [118,  84,  50],\n",
       "        [120,  84,  50],\n",
       "        [109,  73,  42]],\n",
       "\n",
       "       ...,\n",
       "\n",
       "       [[208, 170,  96],\n",
       "        [201, 153,  34],\n",
       "        [198, 161,  26],\n",
       "        ...,\n",
       "        [160, 133,  70],\n",
       "        [ 56,  31,   7],\n",
       "        [ 53,  34,  20]],\n",
       "\n",
       "       [[180, 139,  96],\n",
       "        [173, 123,  42],\n",
       "        [186, 144,  30],\n",
       "        ...,\n",
       "        [184, 148,  94],\n",
       "        [ 97,  62,  34],\n",
       "        [ 83,  53,  34]],\n",
       "\n",
       "       [[177, 144, 116],\n",
       "        [168, 129,  94],\n",
       "        [179, 142,  87],\n",
       "        ...,\n",
       "        [216, 184, 140],\n",
       "        [151, 118,  84],\n",
       "        [123,  92,  72]]], dtype=uint8)"
      ]
     },
     "execution_count": 83,
     "metadata": {},
     "output_type": "execute_result"
    }
   ],
   "source": [
    "x_train[0]"
   ]
  },
  {
   "cell_type": "code",
   "execution_count": 84,
   "id": "886e82b2",
   "metadata": {},
   "outputs": [
    {
     "data": {
      "text/plain": [
       "(50000, 1)"
      ]
     },
     "execution_count": 84,
     "metadata": {},
     "output_type": "execute_result"
    }
   ],
   "source": [
    "y_train.shape"
   ]
  },
  {
   "cell_type": "code",
   "execution_count": 85,
   "id": "ff1bda33",
   "metadata": {
    "scrolled": true
   },
   "outputs": [
    {
     "data": {
      "text/plain": [
       "array([[6],\n",
       "       [9],\n",
       "       [9],\n",
       "       [4]], dtype=uint8)"
      ]
     },
     "execution_count": 85,
     "metadata": {},
     "output_type": "execute_result"
    }
   ],
   "source": [
    "# here there will be 10 number , 0-9 means 10 classes\n",
    "y_train[0:4]"
   ]
  },
  {
   "cell_type": "markdown",
   "id": "d947d7bc",
   "metadata": {},
   "source": [
    "### Showing the classes"
   ]
  },
  {
   "cell_type": "markdown",
   "id": "18307832",
   "metadata": {},
   "source": [
    "# Data visualization!"
   ]
  },
  {
   "cell_type": "code",
   "execution_count": 86,
   "id": "abcf9f2a",
   "metadata": {},
   "outputs": [],
   "source": [
    "#imshow is image show function\n",
    "def plot_sample(index):\n",
    "    plt.figure(figsize = (10,1))\n",
    "    plt.imshow(x_train[index])"
   ]
  },
  {
   "cell_type": "code",
   "execution_count": 87,
   "id": "16af489a",
   "metadata": {},
   "outputs": [
    {
     "data": {
      "image/png": "[encoded data removed]",
      "text/plain": [
       "<Figure size 720x72 with 1 Axes>"
      ]
     },
     "metadata": {
      "needs_background": "light"
     },
     "output_type": "display_data"
    }
   ],
   "source": [
    "plot_sample(0)"
   ]
  },
  {
   "cell_type": "code",
   "execution_count": 88,
   "id": "7c6ff15a",
   "metadata": {},
   "outputs": [
    {
     "data": {
      "image/png": "[encoded data removed]",
      "text/plain": [
       "<Figure size 720x72 with 1 Axes>"
      ]
     },
     "metadata": {
      "needs_background": "light"
     },
     "output_type": "display_data"
    }
   ],
   "source": [
    "plot_sample(100)"
   ]
  },
  {
   "cell_type": "code",
   "execution_count": 89,
   "id": "b43819ad",
   "metadata": {},
   "outputs": [
    {
     "data": {
      "image/png": "[encoded data removed]",
      "text/plain": [
       "<Figure size 720x72 with 1 Axes>"
      ]
     },
     "metadata": {
      "needs_background": "light"
     },
     "output_type": "display_data"
    }
   ],
   "source": [
    "plot_sample(1000)"
   ]
  },
  {
   "cell_type": "code",
   "execution_count": 90,
   "id": "8bcf5601",
   "metadata": {},
   "outputs": [
    {
     "data": {
      "image/png": "[encoded data removed]",
      "text/plain": [
       "<Figure size 720x72 with 1 Axes>"
      ]
     },
     "metadata": {
      "needs_background": "light"
     },
     "output_type": "display_data"
    }
   ],
   "source": [
    "plot_sample(10000)"
   ]
  },
  {
   "cell_type": "code",
   "execution_count": 91,
   "id": "51ff4d3c",
   "metadata": {
    "scrolled": true
   },
   "outputs": [
    {
     "data": {
      "image/png": "[encoded data removed]",
      "text/plain": [
       "<Figure size 720x72 with 1 Axes>"
      ]
     },
     "metadata": {
      "needs_background": "light"
     },
     "output_type": "display_data"
    }
   ],
   "source": [
    "plot_sample(49000)"
   ]
  },
  {
   "cell_type": "code",
   "execution_count": 92,
   "id": "5c717da6",
   "metadata": {},
   "outputs": [],
   "source": [
    "classes = [\"airplane\", \"automobile\", \"bird\",\"cat\", \"deer\",\"dog\",\"frog\",\"horse\",\"ship\",\"truck\"]"
   ]
  },
  {
   "cell_type": "code",
   "execution_count": 93,
   "id": "7e411d2b",
   "metadata": {},
   "outputs": [
    {
     "data": {
      "text/plain": [
       "array([8], dtype=uint8)"
      ]
     },
     "execution_count": 93,
     "metadata": {},
     "output_type": "execute_result"
    }
   ],
   "source": [
    "y_train[49000]"
   ]
  },
  {
   "cell_type": "code",
   "execution_count": 94,
   "id": "d9441ce2",
   "metadata": {},
   "outputs": [
    {
     "data": {
      "text/plain": [
       "'ship'"
      ]
     },
     "execution_count": 94,
     "metadata": {},
     "output_type": "execute_result"
    }
   ],
   "source": [
    "classes[y_train[49000][0]]"
   ]
  },
  {
   "cell_type": "markdown",
   "id": "a4cd79b4",
   "metadata": {},
   "source": [
    "## Data scaling for better accuracy and train"
   ]
  },
  {
   "cell_type": "code",
   "execution_count": 95,
   "id": "3bef0ed2",
   "metadata": {},
   "outputs": [],
   "source": [
    "x_train_scaled = x_train/255\n",
    "x_test_scaled = x_test/255"
   ]
  },
  {
   "cell_type": "code",
   "execution_count": 96,
   "id": "1ec4784c",
   "metadata": {},
   "outputs": [
    {
     "data": {
      "text/plain": [
       "(50000, 32, 32, 3)"
      ]
     },
     "execution_count": 96,
     "metadata": {},
     "output_type": "execute_result"
    }
   ],
   "source": [
    "x_train_scaled.shape"
   ]
  },
  {
   "cell_type": "code",
   "execution_count": 97,
   "id": "f81dc358",
   "metadata": {},
   "outputs": [
    {
     "data": {
      "text/plain": [
       "array([[6],\n",
       "       [9],\n",
       "       [9],\n",
       "       [4],\n",
       "       [1]], dtype=uint8)"
      ]
     },
     "execution_count": 97,
     "metadata": {},
     "output_type": "execute_result"
    }
   ],
   "source": [
    "y_train[:5]"
   ]
  },
  {
   "cell_type": "markdown",
   "id": "bf40a816",
   "metadata": {},
   "source": [
    "## One Hot Encoding"
   ]
  },
  {
   "cell_type": "code",
   "execution_count": 110,
   "id": "cf12b20b",
   "metadata": {
    "scrolled": true
   },
   "outputs": [
    {
     "data": {
      "text/plain": [
       "array([[0., 0., 0., 0., 0., 0., 1., 0., 0., 0.],\n",
       "       [0., 0., 0., 0., 0., 0., 0., 0., 0., 1.],\n",
       "       [0., 0., 0., 0., 0., 0., 0., 0., 0., 1.],\n",
       "       [0., 0., 0., 0., 1., 0., 0., 0., 0., 0.],\n",
       "       [0., 1., 0., 0., 0., 0., 0., 0., 0., 0.]], dtype=float32)"
      ]
     },
     "execution_count": 110,
     "metadata": {},
     "output_type": "execute_result"
    }
   ],
   "source": [
    "y_train_categorical = keras.utils.to_categorical(\n",
    "    y_train, num_classes=10, dtype = 'float32'\n",
    ")\n",
    "y_train_categorical[:5]"
   ]
  },
  {
   "cell_type": "code",
   "execution_count": 111,
   "id": "ecc7a8fc",
   "metadata": {},
   "outputs": [
    {
     "data": {
      "text/plain": [
       "array([[0., 0., 0., 1., 0., 0., 0., 0., 0., 0.],\n",
       "       [0., 0., 0., 0., 0., 0., 0., 0., 1., 0.],\n",
       "       [0., 0., 0., 0., 0., 0., 0., 0., 1., 0.],\n",
       "       [1., 0., 0., 0., 0., 0., 0., 0., 0., 0.],\n",
       "       [0., 0., 0., 0., 0., 0., 1., 0., 0., 0.]], dtype=float32)"
      ]
     },
     "execution_count": 111,
     "metadata": {},
     "output_type": "execute_result"
    }
   ],
   "source": [
    "y_test_categorical = keras.utils.to_categorical(\n",
    "    y_test, num_classes=10, dtype = 'float32'\n",
    ")\n",
    "y_test_categorical[:5]"
   ]
  },
  {
   "cell_type": "markdown",
   "id": "a6e1ddc0",
   "metadata": {},
   "source": [
    "#  neural network\n",
    "#first layer input layer\n",
    "#second layer dense layer"
   ]
  },
  {
   "cell_type": "code",
   "execution_count": 69,
   "id": "35902f63",
   "metadata": {},
   "outputs": [
    {
     "name": "stdout",
     "output_type": "stream",
     "text": [
      "Epoch 1/50\n",
      "1563/1563 [==============================] - 186s 97ms/step - loss: 1.8116 - accuracy: 0.3552\n",
      "Epoch 2/50\n",
      "1563/1563 [==============================] - 132s 84ms/step - loss: 1.6249 - accuracy: 0.4253\n",
      "Epoch 3/50\n",
      "1563/1563 [==============================] - 208s 133ms/step - loss: 1.5435 - accuracy: 0.4557\n",
      "Epoch 4/50\n",
      "1563/1563 [==============================] - 154s 99ms/step - loss: 1.4827 - accuracy: 0.4784\n",
      "Epoch 5/50\n",
      "1563/1563 [==============================] - 133s 85ms/step - loss: 1.4354 - accuracy: 0.4970\n",
      "Epoch 6/50\n",
      "1563/1563 [==============================] - 134s 86ms/step - loss: 1.3909 - accuracy: 0.5118\n",
      "Epoch 7/50\n",
      "1563/1563 [==============================] - 194s 124ms/step - loss: 1.3515 - accuracy: 0.5251\n",
      "Epoch 8/50\n",
      "1563/1563 [==============================] - 221s 141ms/step - loss: 1.3175 - accuracy: 0.5386\n",
      "Epoch 9/50\n",
      "1563/1563 [==============================] - 213s 136ms/step - loss: 1.2839 - accuracy: 0.5498\n",
      "Epoch 10/50\n",
      "1563/1563 [==============================] - 203s 130ms/step - loss: 1.2515 - accuracy: 0.5609\n",
      "Epoch 11/50\n",
      "1563/1563 [==============================] - 165s 106ms/step - loss: 1.2245 - accuracy: 0.5726\n",
      "Epoch 12/50\n",
      "1563/1563 [==============================] - 220s 141ms/step - loss: 1.1963 - accuracy: 0.5803\n",
      "Epoch 13/50\n",
      "1563/1563 [==============================] - 207s 133ms/step - loss: 1.1676 - accuracy: 0.5910\n",
      "Epoch 14/50\n",
      "1563/1563 [==============================] - 212s 136ms/step - loss: 1.1412 - accuracy: 0.6023\n",
      "Epoch 15/50\n",
      "1563/1563 [==============================] - 217s 139ms/step - loss: 1.1148 - accuracy: 0.6123\n",
      "Epoch 16/50\n",
      "1563/1563 [==============================] - 216s 138ms/step - loss: 1.0885 - accuracy: 0.6194\n",
      "Epoch 17/50\n",
      "1563/1563 [==============================] - 212s 135ms/step - loss: 1.0588 - accuracy: 0.6315\n",
      "Epoch 18/50\n",
      "1563/1563 [==============================] - 204s 131ms/step - loss: 1.0383 - accuracy: 0.6390\n",
      "Epoch 19/50\n",
      "1563/1563 [==============================] - 209s 134ms/step - loss: 1.0113 - accuracy: 0.6480\n",
      "Epoch 20/50\n",
      "1563/1563 [==============================] - 219s 140ms/step - loss: 0.9847 - accuracy: 0.6584\n",
      "Epoch 21/50\n",
      "1563/1563 [==============================] - 194s 124ms/step - loss: 0.9596 - accuracy: 0.6687\n",
      "Epoch 22/50\n",
      "1563/1563 [==============================] - 130s 83ms/step - loss: 0.9334 - accuracy: 0.6768\n",
      "Epoch 23/50\n",
      "1563/1563 [==============================] - 134s 86ms/step - loss: 0.9071 - accuracy: 0.6879\n",
      "Epoch 24/50\n",
      "1563/1563 [==============================] - 130s 83ms/step - loss: 0.8824 - accuracy: 0.6952\n",
      "Epoch 25/50\n",
      "1563/1563 [==============================] - 130s 83ms/step - loss: 0.8578 - accuracy: 0.7022\n",
      "Epoch 26/50\n",
      "1563/1563 [==============================] - 130s 83ms/step - loss: 0.8325 - accuracy: 0.7134\n",
      "Epoch 27/50\n",
      "1563/1563 [==============================] - 130s 83ms/step - loss: 0.8061 - accuracy: 0.7227\n",
      "Epoch 28/50\n",
      "1563/1563 [==============================] - 131s 84ms/step - loss: 0.7808 - accuracy: 0.7317\n",
      "Epoch 29/50\n",
      "1563/1563 [==============================] - 127s 81ms/step - loss: 0.7585 - accuracy: 0.7393\n",
      "Epoch 30/50\n",
      "1563/1563 [==============================] - 126s 81ms/step - loss: 0.7344 - accuracy: 0.7494\n",
      "Epoch 31/50\n",
      "1563/1563 [==============================] - 127s 81ms/step - loss: 0.7067 - accuracy: 0.7573\n",
      "Epoch 32/50\n",
      "1563/1563 [==============================] - 127s 81ms/step - loss: 0.6808 - accuracy: 0.7702\n",
      "Epoch 33/50\n",
      "1563/1563 [==============================] - 5276s 3s/step - loss: 0.6567 - accuracy: 0.7778\n",
      "Epoch 34/50\n",
      "1563/1563 [==============================] - 177s 113ms/step - loss: 0.6341 - accuracy: 0.7859\n",
      "Epoch 35/50\n",
      "1563/1563 [==============================] - 139s 89ms/step - loss: 0.6098 - accuracy: 0.7962\n",
      "Epoch 36/50\n",
      "1563/1563 [==============================] - 138s 88ms/step - loss: 0.5863 - accuracy: 0.8056\n",
      "Epoch 37/50\n",
      "1563/1563 [==============================] - 137s 87ms/step - loss: 0.5603 - accuracy: 0.8138\n",
      "Epoch 38/50\n",
      "1563/1563 [==============================] - 136s 87ms/step - loss: 0.5384 - accuracy: 0.8224\n",
      "Epoch 39/50\n",
      "1563/1563 [==============================] - 130s 83ms/step - loss: 0.5158 - accuracy: 0.8290\n",
      "Epoch 40/50\n",
      "1563/1563 [==============================] - 127s 81ms/step - loss: 0.4959 - accuracy: 0.8363\n",
      "Epoch 41/50\n",
      "1563/1563 [==============================] - 127s 81ms/step - loss: 0.4747 - accuracy: 0.8456\n",
      "Epoch 42/50\n",
      "1563/1563 [==============================] - 20911s 13s/step - loss: 0.4502 - accuracy: 0.8537\n",
      "Epoch 43/50\n",
      "1563/1563 [==============================] - 234s 150ms/step - loss: 0.4283 - accuracy: 0.8636\n",
      "Epoch 44/50\n",
      "1563/1563 [==============================] - 209s 133ms/step - loss: 0.4068 - accuracy: 0.8700\n",
      "Epoch 45/50\n",
      "1563/1563 [==============================] - 203s 130ms/step - loss: 0.3865 - accuracy: 0.8768\n",
      "Epoch 46/50\n",
      "1563/1563 [==============================] - 204s 130ms/step - loss: 0.3717 - accuracy: 0.8837\n",
      "Epoch 47/50\n",
      "1563/1563 [==============================] - 206s 132ms/step - loss: 0.3488 - accuracy: 0.8917\n",
      "Epoch 48/50\n",
      "1563/1563 [==============================] - 208s 133ms/step - loss: 0.3328 - accuracy: 0.8972\n",
      "Epoch 49/50\n",
      "1563/1563 [==============================] - 206s 132ms/step - loss: 0.3156 - accuracy: 0.9031\n",
      "Epoch 50/50\n",
      "1563/1563 [==============================] - 210s 134ms/step - loss: 0.2983 - accuracy: 0.9106\n"
     ]
    },
    {
     "data": {
      "text/plain": [
       "<keras.callbacks.History at 0x25f96ad4b50>"
      ]
     },
     "execution_count": 69,
     "metadata": {},
     "output_type": "execute_result"
    }
   ],
   "source": [
    "model = keras.Sequential([\n",
    "    keras.layers.Flatten(input_shape=(32,32,3)),\n",
    "    keras.layers.Dense(3000, activation='relu'),\n",
    "    keras.layers.Dense(1000, activation='relu'),\n",
    "    keras.layers.Dense(10, activation='sigmoid')\n",
    "])\n",
    "\n",
    "model.compile(optimizer='SGD',\n",
    "              loss='categorical_crossentropy',\n",
    "              metrics=['accuracy'])\n",
    "model.fit(x_train_scaled, y_train_categorical, epochs=50)"
   ]
  },
  {
   "cell_type": "markdown",
   "id": "0a414191",
   "metadata": {},
   "source": [
    "## Prediction"
   ]
  },
  {
   "cell_type": "code",
   "execution_count": 113,
   "id": "a144779a",
   "metadata": {
    "scrolled": true
   },
   "outputs": [
    {
     "data": {
      "text/plain": [
       "array([[3.12945843e-01, 8.21869254e-01, 8.74778152e-01, ...,\n",
       "        1.61531916e-05, 5.27581275e-01, 1.55914545e-01],\n",
       "       [8.00813198e-01, 9.94127512e-01, 6.50255561e-01, ...,\n",
       "        1.63880348e-01, 9.97542560e-01, 9.91727948e-01],\n",
       "       [9.99293208e-01, 9.45932567e-01, 8.04684997e-01, ...,\n",
       "        8.18639874e-01, 9.72192764e-01, 9.56836820e-01],\n",
       "       ...,\n",
       "       [1.03955686e-01, 3.15982103e-03, 9.95700717e-01, ...,\n",
       "        6.01734579e-01, 1.34649903e-01, 2.01881915e-01],\n",
       "       [2.83538878e-01, 3.02793980e-01, 9.56141710e-01, ...,\n",
       "        1.29523128e-01, 9.28567946e-02, 1.97363794e-02],\n",
       "       [8.00969005e-02, 4.39912379e-02, 9.51244533e-01, ...,\n",
       "        9.94706154e-01, 9.54476595e-02, 2.58371651e-01]], dtype=float32)"
      ]
     },
     "execution_count": 113,
     "metadata": {},
     "output_type": "execute_result"
    }
   ],
   "source": [
    "#The higher prediction number will be our answer!\n",
    "model.predict(x_test_scaled)"
   ]
  },
  {
   "cell_type": "code",
   "execution_count": 114,
   "id": "e97b201b",
   "metadata": {},
   "outputs": [
    {
     "data": {
      "text/plain": [
       "3"
      ]
     },
     "execution_count": 114,
     "metadata": {},
     "output_type": "execute_result"
    }
   ],
   "source": [
    "# argmax will give us the max prediction number!\n",
    "np.argmax(model.predict(x_test_scaled)[0])"
   ]
  },
  {
   "cell_type": "markdown",
   "id": "76019f75",
   "metadata": {},
   "source": [
    "## Now crossmatch the prediction"
   ]
  },
  {
   "cell_type": "code",
   "execution_count": 101,
   "id": "745ea627",
   "metadata": {},
   "outputs": [
    {
     "data": {
      "text/plain": [
       "'cat'"
      ]
     },
     "execution_count": 101,
     "metadata": {},
     "output_type": "execute_result"
    }
   ],
   "source": [
    "classes[np.argmax(model.predict(x_test_scaled)[0])]"
   ]
  },
  {
   "cell_type": "code",
   "execution_count": 102,
   "id": "5096cb20",
   "metadata": {},
   "outputs": [
    {
     "data": {
      "text/plain": [
       "'cat'"
      ]
     },
     "execution_count": 102,
     "metadata": {},
     "output_type": "execute_result"
    }
   ],
   "source": [
    "classes[y_test[0][0]]"
   ]
  },
  {
   "cell_type": "code",
   "execution_count": 103,
   "id": "37c390db",
   "metadata": {},
   "outputs": [
    {
     "data": {
      "text/plain": [
       "8"
      ]
     },
     "execution_count": 103,
     "metadata": {},
     "output_type": "execute_result"
    }
   ],
   "source": [
    "np.argmax(model.predict(x_test_scaled)[1])"
   ]
  },
  {
   "cell_type": "code",
   "execution_count": 104,
   "id": "f0d0db57",
   "metadata": {},
   "outputs": [
    {
     "data": {
      "text/plain": [
       "'ship'"
      ]
     },
     "execution_count": 104,
     "metadata": {},
     "output_type": "execute_result"
    }
   ],
   "source": [
    "classes[np.argmax(model.predict(x_test_scaled)[1])]"
   ]
  },
  {
   "cell_type": "code",
   "execution_count": 105,
   "id": "6a9cd0b8",
   "metadata": {},
   "outputs": [
    {
     "data": {
      "text/plain": [
       "'ship'"
      ]
     },
     "execution_count": 105,
     "metadata": {},
     "output_type": "execute_result"
    }
   ],
   "source": [
    "classes[y_test[1][0]]"
   ]
  },
  {
   "cell_type": "markdown",
   "id": "fef16113",
   "metadata": {},
   "source": [
    "### Check Model Accuracy"
   ]
  },
  {
   "cell_type": "code",
   "execution_count": 112,
   "id": "33f6490b",
   "metadata": {
    "scrolled": true
   },
   "outputs": [
    {
     "name": "stdout",
     "output_type": "stream",
     "text": [
      "313/313 [==============================] - 55s 44ms/step - loss: 1.7071 - accuracy: 0.5413\n"
     ]
    },
    {
     "data": {
      "text/plain": [
       "[1.7071325778961182, 0.5412999987602234]"
      ]
     },
     "execution_count": 112,
     "metadata": {},
     "output_type": "execute_result"
    }
   ],
   "source": [
    "model.evaluate(x_test_scaled,y_test_categorical)"
   ]
  }
 ],
 "metadata": {
  "kernelspec": {
   "display_name": "Python 3 (ipykernel)",
   "language": "python",
   "name": "python3"
  },
  "language_info": {
   "codemirror_mode": {
    "name": "ipython",
    "version": 3
   },
   "file_extension": ".py",
   "mimetype": "text/x-python",
   "name": "python",
   "nbconvert_exporter": "python",
   "pygments_lexer": "ipython3",
   "version": "3.10.4"
  }
 },
 "nbformat": 4,
 "nbformat_minor": 5
}
